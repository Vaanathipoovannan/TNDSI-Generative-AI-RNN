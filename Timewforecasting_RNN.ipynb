{
  "nbformat": 4,
  "nbformat_minor": 0,
  "metadata": {
    "colab": {
      "private_outputs": true,
      "provenance": [],
      "include_colab_link": true
    },
    "kernelspec": {
      "name": "python3",
      "display_name": "Python 3"
    },
    "language_info": {
      "name": "python"
    }
  },
  "cells": [
    {
      "cell_type": "markdown",
      "metadata": {
        "id": "view-in-github",
        "colab_type": "text"
      },
      "source": [
        "<a href=\"https://colab.research.google.com/github/Vaanathipoovannan/TNDSI-Generative-AI_timeforecasting-using-RNN/blob/main/Timewforecasting_RNN.ipynb\" target=\"_parent\"><img src=\"https://colab.research.google.com/assets/colab-badge.svg\" alt=\"Open In Colab\"/></a>"
      ]
    },
    {
      "cell_type": "code",
      "execution_count": null,
      "metadata": {
        "id": "fnTpVldvbLGr"
      },
      "outputs": [],
      "source": [
        "import pandas as pd\n",
        "import numpy as np\n",
        "import matplotlib.pyplot as plt\n",
        "%matplotlib inline"
      ]
    },
    {
      "cell_type": "code",
      "source": [
        "\n",
        "train_dataset=pd.read_csv('/content/Apple_Train.csv')\n",
        "test_dataset=pd.read_csv('/content/Apple_Test.csv')\n",
        "\n",
        "train_dataset.head(5)"
      ],
      "metadata": {
        "id": "XE4Zs-Oob7Uh"
      },
      "execution_count": null,
      "outputs": []
    },
    {
      "cell_type": "code",
      "source": [
        "test_dataset.head"
      ],
      "metadata": {
        "id": "vMAb7PlNcYna"
      },
      "execution_count": null,
      "outputs": []
    },
    {
      "cell_type": "code",
      "source": [
        "\n",
        "plt.plot(train_dataset['Open'])"
      ],
      "metadata": {
        "id": "-DgOXghocYyq"
      },
      "execution_count": null,
      "outputs": []
    },
    {
      "cell_type": "code",
      "source": [
        "import seaborn as sns\n",
        "sns.pairplot(train_dataset)\n",
        "plt.plot(test_dataset['Open'])\n",
        "plt.xlabel('Time')\n",
        "plt.ylabel('Stock');\n",
        "\n"
      ],
      "metadata": {
        "id": "OQ0GM6uLcY25"
      },
      "execution_count": null,
      "outputs": []
    },
    {
      "cell_type": "code",
      "source": [
        "\n",
        "train_data=train_dataset.iloc[:,1:3].values\n",
        "train_data.shape"
      ],
      "metadata": {
        "id": "NclCwG6WcY7y"
      },
      "execution_count": null,
      "outputs": []
    },
    {
      "cell_type": "code",
      "source": [
        "\n",
        "from sklearn.preprocessing import MinMaxScaler\n",
        "Scaler=MinMaxScaler()\n",
        "scaled_data=Scaler.fit_transform(train_data)\n",
        "\n",
        "X_train=[]\n",
        "y_train=[]\n",
        "\n",
        "for i in range(80,len(scaled_data)):\n",
        "    X_train.append(scaled_data[i-80:i,:])\n",
        "    y_train.append(scaled_data[i,0])\n",
        "\n",
        "X_train=np.array(X_train)\n",
        "y_train=np.array(y_train)\n",
        "print(type(X_train))\n",
        "print(type(y_train))"
      ],
      "metadata": {
        "id": "Zz-nJD7lcZAb"
      },
      "execution_count": null,
      "outputs": []
    },
    {
      "cell_type": "code",
      "source": [
        "\n",
        "X_train.shape"
      ],
      "metadata": {
        "id": "YcJGCAVvcZFC"
      },
      "execution_count": null,
      "outputs": []
    },
    {
      "cell_type": "code",
      "source": [
        "\n",
        "from keras.models import Sequential\n",
        "from keras.layers import LSTM\n",
        "from keras.layers import Dense\n",
        "from keras.layers import Dropout\n",
        "\n",
        "model=Sequential()\n",
        "\n",
        "model.add(LSTM(units=60,return_sequences=True,input_shape=(X_train.shape[1],X_train.shape[2])))\n",
        "model.add(Dropout(0.2))\n",
        "\n",
        "model.add(LSTM(units=60,return_sequences=True))\n",
        "model.add(Dropout(0.2))\n",
        "\n",
        "model.add(LSTM(units=60,return_sequences=True))\n",
        "model.add(Dropout(0.2))\n",
        "\n",
        "model.add(LSTM(units=60,return_sequences=True))\n",
        "model.add(Dropout(0.2))\n",
        "\n",
        "model.add(LSTM(units=60,return_sequences=False))\n",
        "model.add(Dropout(0.2))\n",
        "\n",
        "model.add(Dense(units=1))\n",
        "\n",
        "model.compile(optimizer='adam',loss='mean_squared_error')\n",
        "\n",
        "model.fit(X_train,y_train,epochs=100,batch_size=32)"
      ],
      "metadata": {
        "id": "oDgTyX86dF3T"
      },
      "execution_count": null,
      "outputs": []
    },
    {
      "cell_type": "code",
      "source": [
        "\n",
        "test_data=test_dataset.iloc[:,1:2].values\n",
        "final_dataset=pd.concat((train_dataset[['Open','Close']],test_dataset[['Open','Close']]),axis=0)\n",
        "input_data=final_dataset[len(final_dataset)-len(test_dataset)-80:].values\n",
        "input_data.reshape(-1,1)\n",
        "\n",
        "input_data=Scaler.transform(input_data)\n",
        "X_test=[]\n",
        "for i in range(80,100):\n",
        "    X_test.append(input_data[i-80:i,0:2])\n",
        "\n",
        "X_test=np.array(X_test)\n",
        "\n",
        "predictions=model.predict(X_test)\n",
        "\n",
        "trainPredict_extended = np.zeros((len(predictions),2))\n",
        "\n",
        "trainPredict_extended[:,1] = predictions.transpose()\n",
        "trainPredict_extended"
      ],
      "metadata": {
        "id": "D2Cz9kdkdF8S"
      },
      "execution_count": null,
      "outputs": []
    },
    {
      "cell_type": "code",
      "source": [
        "\n",
        "trainPredict = Scaler.inverse_transform(trainPredict_extended)[:,1]\n",
        "plt.plot(trainPredict,label='Predicted')\n",
        "plt.plot(test_data,label='Actual')\n",
        "plt.title('Apple Stock Price Pridiction')\n",
        "plt.xlabel('Time')\n",
        "plt.ylabel('Stocks')\n",
        "plt.legend()"
      ],
      "metadata": {
        "id": "5aBmYo1RdGCS"
      },
      "execution_count": null,
      "outputs": []
    },
    {
      "cell_type": "code",
      "source": [],
      "metadata": {
        "id": "X8fcwvkEdGHa"
      },
      "execution_count": null,
      "outputs": []
    },
    {
      "cell_type": "code",
      "source": [],
      "metadata": {
        "id": "QcOcdowvdGMK"
      },
      "execution_count": null,
      "outputs": []
    },
    {
      "cell_type": "code",
      "source": [],
      "metadata": {
        "id": "Crc3RbnpdGRC"
      },
      "execution_count": null,
      "outputs": []
    },
    {
      "cell_type": "code",
      "source": [],
      "metadata": {
        "id": "EDkrDHJ9dGWC"
      },
      "execution_count": null,
      "outputs": []
    },
    {
      "cell_type": "code",
      "source": [],
      "metadata": {
        "id": "57_wEgtKdGaq"
      },
      "execution_count": null,
      "outputs": []
    },
    {
      "cell_type": "code",
      "source": [],
      "metadata": {
        "id": "4FbM2rQBdGfa"
      },
      "execution_count": null,
      "outputs": []
    },
    {
      "cell_type": "code",
      "source": [],
      "metadata": {
        "id": "Q3phIOpYdGka"
      },
      "execution_count": null,
      "outputs": []
    },
    {
      "cell_type": "code",
      "source": [],
      "metadata": {
        "id": "48sTG1KPdGpS"
      },
      "execution_count": null,
      "outputs": []
    },
    {
      "cell_type": "code",
      "source": [],
      "metadata": {
        "id": "YB3QSlzgdGui"
      },
      "execution_count": null,
      "outputs": []
    },
    {
      "cell_type": "code",
      "source": [],
      "metadata": {
        "id": "0ECAdls-dG0S"
      },
      "execution_count": null,
      "outputs": []
    },
    {
      "cell_type": "code",
      "source": [],
      "metadata": {
        "id": "dsA28PoEdG7i"
      },
      "execution_count": null,
      "outputs": []
    }
  ]
}